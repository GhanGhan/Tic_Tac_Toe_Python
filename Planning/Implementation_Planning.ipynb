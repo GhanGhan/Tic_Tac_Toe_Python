{
 "cells": [
  {
   "cell_type": "markdown",
   "id": "41d902f8",
   "metadata": {},
   "source": [
    "# TODO List Part 1:\n",
    "- [x] Create gameInput Module\n",
    "- [x] Implement newGame function\n",
    "- [x] Test NewGame function for 0 and 1+ games played\n",
    "- [x] Implement enterData function\n",
    "- [x] Test enter data function \n",
    "\n",
    "# TODO List Part 2:\n",
    "- [X] Create gamePreProcessing Module\n",
    "- [X] Implement ParseData function\n",
    "- [X] Test ParseData function with correct and incorrect inputs\n",
    "- [X] Implement ValidateData function\n",
    "- [X] Test ValidateData function with valid and invalid input data\n",
    "\n",
    "# TODO List Part 3:\n",
    "- [X] Create gameState Module\n",
    "- [X] Implement checkWinner Function\n",
    "- [ ] Test CheckWinner function for victorious and non-victorious states for both players\n",
    "- [X] Implement checkStaleMate function\n",
    "- [ ] Test CheckStaleMate function in stale-mate and non-stalemate states\n",
    "\n",
    "# TODO List Part 4:\n",
    "- [ ] Create Output Module\n",
    "- [ ] Implement printSeriesMetrics Function\n",
    "- [ ] Test printSeriesMetrics function\n",
    "- [ ] Implement gameState function\n",
    "- [ ] Test gameState functions"
   ]
  },
  {
   "cell_type": "markdown",
   "id": "1ad54978",
   "metadata": {},
   "source": []
  }
 ],
 "metadata": {
  "language_info": {
   "name": "python"
  }
 },
 "nbformat": 4,
 "nbformat_minor": 5
}
