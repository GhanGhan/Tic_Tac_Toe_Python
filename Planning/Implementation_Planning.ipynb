{
 "cells": [
  {
   "cell_type": "markdown",
   "id": "41d902f8",
   "metadata": {},
   "source": [
    "# TODO List Part 1:\n",
    "- [ ] Create gameInput Module\n",
    "- [ ] Implement newGame function\n",
    "- [ ] Test NewGame function for 0 and 1+ games played\n",
    "- [ ] Implement enterData function\n",
    "- [ ] Test enter data function \n",
    "\n",
    "# TODO List Part 2:\n",
    "- [ ] Create gamePreProcessing Module\n",
    "- [ ] Implement ParseData function\n",
    "- [ ] Test ParseData function with correct and incorrect inputs\n",
    "- [ ] Implement ValidateData function\n",
    "- [ ] Test ValidateData function with valid and invalid input data\n",
    "\n",
    "# TODO List Part 3:\n",
    "- [ ] Create gameState Module\n",
    "- [ ] Implement checkWinner Function\n",
    "- [ ] Test CheckWinner function for victorious and non-victorious states for both players\n",
    "- [ ] Implement checkStaleMate function\n",
    "- [ ] Test CheckStaleMate function in stale-mate and non-stalemate states\n",
    "\n",
    "# TODO List Part 4:\n",
    "- [ ] Create Output Module\n",
    "- [ ] Implement printSeriesMetrics Function\n",
    "- [ ] Test printSeriesMetrics function\n",
    "- [ ] Implement gameState function\n",
    "- [ ] Test gameState functions"
   ]
  },
  {
   "cell_type": "markdown",
   "id": "1ad54978",
   "metadata": {},
   "source": []
  }
 ],
 "metadata": {
  "language_info": {
   "name": "python"
  }
 },
 "nbformat": 4,
 "nbformat_minor": 5
}
