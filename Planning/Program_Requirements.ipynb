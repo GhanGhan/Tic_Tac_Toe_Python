{
 "cells": [
  {
   "cell_type": "markdown",
   "id": "1ad96b0e",
   "metadata": {},
   "source": [
    "# Brainstorming\n",
    "- Implement Tic-Tac-Toe via the command line interface\n",
    "- game will be programmed in python\n",
    "- The players scores will always be shows, along with the number of games played and who's turn it is\n",
    "- Player 1 will use: \"X\"\n",
    "- Player 2 will use: \"O\"\n",
    "- Both players will use the console to enter their mark, along with the cell they want to enter their mark into\n",
    "- e.g. input: X 2 3 - Mark row column\n",
    "- Each time a player enters the required data:\n",
    "    - check if the mark is valid\n",
    "    - check if the location is a valid location (both rows and colums have a value between and including 1 to 3, and cell has not\n",
    "    previously been makred by either player)\n",
    "    - check if this has caused a victory (|, --, \\ or /)\n",
    "    - check if victory has become impossible\n",
    "- If victory is no longer possible, game ends in a tie\n",
    "- After tie or game has been won, declare the result and ask the user if they want to play again"
   ]
  },
  {
   "cell_type": "markdown",
   "id": "9ca6224a",
   "metadata": {},
   "source": [
    "# Input Data\n",
    "- all data will be inputted via the command line interface or terminal (whatever you want to call it)\n",
    "- data consists of the following: Player mark | Row coordinate | Column coordinate\n",
    "- character types: string | integer | integer\n",
    "- lowest row/column value is 1, highest row/column value is 3\n",
    "    - Example input for Player 1 and Player 2\n",
    "    - Player 1: X 1 2\n",
    "    - Player 2: O 3 3\n",
    "\n"
   ]
  },
  {
   "cell_type": "markdown",
   "id": "0db2e2b2",
   "metadata": {},
   "source": [
    "# Game Data\n",
    "- Number of games that have been played \n",
    "- Number of games that Player 1 has won\n",
    "- Number of games that Player 2 has won\n",
    "- Number of turns that have taken place in the current game\n",
    "- Whose turn it is to choose a cell to mark\n",
    "- State of gameboard\n"
   ]
  },
  {
   "cell_type": "markdown",
   "id": "36c7a609",
   "metadata": {},
   "source": [
    "# Function and output\n",
    "- each turn prompt user to select a board to mark\n",
    "- assuming input is valid:\n",
    "    - update number of turns played\n",
    "    - update the gameboard\n",
    "- Always show:\n",
    "    - number of games played\n",
    "    - number of games each player has one\n",
    "    - number of turns in current game, and whose turn it is\n"
   ]
  }
 ],
 "metadata": {
  "language_info": {
   "name": "python"
  }
 },
 "nbformat": 4,
 "nbformat_minor": 5
}
