{
 "cells": [
  {
   "cell_type": "markdown",
   "metadata": {},
   "source": [
    "# Start-Up\n",
    "<img src=\"UI_Images\\Initial_Screen.png\" style=\"width:25%; height:25%;\">\n"
   ]
  },
  {
   "cell_type": "markdown",
   "metadata": {},
   "source": [
    "- When program is run, this screen should pop up\n",
    "- Click to top light blue button with text on it to start the game"
   ]
  },
  {
   "cell_type": "markdown",
   "metadata": {},
   "source": [
    "# Playing The Game\n",
    "<img src=\"UI_Images\\Playing_Screen.png\" style=\"width:25%; height:25%;\">"
   ]
  },
  {
   "cell_type": "markdown",
   "metadata": {},
   "source": [
    "- player 'X' goes before player 'O'\n",
    "- screen mode is active until either player wins the match\n",
    "## Algorithm for checking Win-State"
   ]
  },
  {
   "cell_type": "code",
   "execution_count": 7,
   "metadata": {},
   "outputs": [
    {
     "name": "stdout",
     "output_type": "stream",
     "text": [
      "(row, col)\n",
      "['(0,0)', '(0,1)', '(0,2)']\n",
      "['(1,0)', '(1,1)', '(1,2)']\n",
      "['(2,0)', '(2,1)', '(2,2)']\n"
     ]
    }
   ],
   "source": [
    "# This code is used to display the indices of each cell visually - What the algo is based on, NOT the actual algorithm\n",
    "ls = [[\"(0,0)\", \"(0,1)\", \"(0,2)\"], [\"(1,0)\", \"(1,1)\", \"(1,2)\"], [\"(2,0)\", \"(2,1)\", \"(2,2)\"]]\n",
    "print(\"(row, col)\")\n",
    "for row in ls:\n",
    "    print(row)"
   ]
  },
  {
   "cell_type": "markdown",
   "metadata": {},
   "source": [
    "- for Player #:\n",
    "    - click a tile: tile_last has mark '#'\n",
    "        - Check for row or column victory:\n",
    "            - if 2 other tiles with the same row value as tile_last are also marked '#' -> victory\n",
    "            - if 2 other tiles with the smae col value as tile_last are also marked '#' -> victory\n",
    "        - Check for diagnol victory:\n",
    "            - if (tile_last.row + tile_last.col) % 2 == 0\n",
    "                - we know that tile_last is on a diagonal line and should check for a diagonal victory\n",
    "                    - if (1,1): check both directions: BD flag\n",
    "                    - if r == c: check \"\\ \"\n",
    "                    - if (r != c OR BD): check \"/\""
   ]
  },
  {
   "cell_type": "markdown",
   "metadata": {},
   "source": [
    "# Game Won Screen\n",
    "<img src=\"UI_Images\\Game_Won_Screen.png\" style=\"width:25%; height:25%;\">"
   ]
  },
  {
   "cell_type": "markdown",
   "metadata": {},
   "source": [
    "- game is finished\n",
    "- all grid buttons are now unresponsive\n",
    "- to play again, click medium blue rectangular button"
   ]
  },
  {
   "cell_type": "markdown",
   "metadata": {},
   "source": []
  }
 ],
 "metadata": {
  "kernelspec": {
   "display_name": "Python 3",
   "language": "python",
   "name": "python3"
  },
  "language_info": {
   "codemirror_mode": {
    "name": "ipython",
    "version": 3
   },
   "file_extension": ".py",
   "mimetype": "text/x-python",
   "name": "python",
   "nbconvert_exporter": "python",
   "pygments_lexer": "ipython3",
   "version": "3.13.0"
  }
 },
 "nbformat": 4,
 "nbformat_minor": 2
}
