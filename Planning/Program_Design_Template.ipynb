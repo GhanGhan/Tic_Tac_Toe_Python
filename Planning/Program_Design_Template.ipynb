{
 "cells": [
  {
   "cell_type": "markdown",
   "id": "f5b35667",
   "metadata": {},
   "source": [
    "# Step 1: Requirements - What am I building\n",
    "- **Purpose:** Understand what you are building and why, before you write any code\n",
    "    - Think of this as your personal spec sheet\n",
    "- Talk to the stakeholders to figure out:\n",
    "    - What the program needs to do\n",
    "    - Who or what is using the program\n",
    "    - What features are essential\n",
    "    - What are the expected inputs\n",
    "    - What are the outputs and how should they be shown/delivered\n",
    "    - Are there any constraints (performance, size, power, timing, program language, platform etc.) - *These are non-functional requirements*\n",
    "- **Output:** A text file with all the requirements\n",
    "\n",
    "\n",
    "\n"
   ]
  },
  {
   "cell_type": "markdown",
   "id": "74d1cfc8",
   "metadata": {},
   "source": [
    "# Step 2: System Design - What are the Pieces\n",
    "- **Purpose:** To break the system into manageable parts and think about their relationships before you code\n",
    "- Figure out:\n",
    "    - What are the main modules/subsystems\n",
    "    - What are the boundaries and responsibilities of each\n",
    "        - What logic is needed and how they should be separated\n",
    "    - Define the data flow - how does information move between parts i.e. how do the modules interact\n",
    "    - Choose an architecture:\n",
    "        - Event-driven\n",
    "        - Loop-based\n",
    "        - Task scheduler\n",
    "        - RTOS\n",
    "- **Output:** A diagram (boxes for each module and arrow indicating data flow), and a short written description of each module's role\n",
    "\n"
   ]
  },
  {
   "cell_type": "markdown",
   "id": "cfd5b8f3",
   "metadata": {},
   "source": [
    "# Step 3: Interface Design - How do the pieces talk\n",
    "- **Purpose:**  To plan how module talk to each other before you implement them.  Makes the code much more modular and testable\n",
    "- Do the following:\n",
    "    - Define function names, parameters and responsibilities:\n",
    "        - What goes in\n",
    "        - What goes out\n",
    "        - Who owns the data\n",
    "    - Design data strucutres:\n",
    "        - Structs, classes\n",
    "        - Buffers, queues, vectors, arrays etc.\n",
    "    - Think about boundaries:\n",
    "        - What should be private to a module\n",
    "        - What data should be shared across modules\n",
    "        - What is accessible to the entire program\n",
    "        - i.e. what each every module, function etc. needs to know what it shouldn't\n",
    "    - Seperate core logic from user input and printing if possible\n",
    "- **Output:** Header files, fucntion stups with a(n interface) document that guides how you will connect the system together, a written API plan\n",
    "\n"
   ]
  },
  {
   "cell_type": "markdown",
   "id": "90749845",
   "metadata": {},
   "source": [
    "# Step 4: Implementation Planning - What's the roadmap?\n",
    "- **Purpose:** To go into coding with a clear roadmap - avoiding \"spaghetti code by improvisation\"\n",
    "- Checklist:\n",
    "    - Prioritize what needs to be written first\n",
    "    - Create a short checklist or todo list\n",
    "    - List tasks to implement each module:\n",
    "        - Write stub function first\n",
    "        - Add TODOs with exact goals\n",
    "        - User version control \n",
    "    - What can I test independently\n",
    "    - Use commends and TODO markers\n",
    "- **Output:** An implementation checklist + a skeletal repo or file structure with empty modules\n"
   ]
  },
  {
   "cell_type": "markdown",
   "id": "4358a979",
   "metadata": {},
   "source": [
    "# Step 5: Code + Review +  Refactor\n",
    "- **Goal:** Stay clean and organized as you code\n",
    "    - Implement modules one at a time\n",
    "    - Test and validate early and often\n",
    "    - Refactor or revisit design decisions if needed - but *based* on *feedback or metrics*, not just gut"
   ]
  }
 ],
 "metadata": {
  "language_info": {
   "name": "python"
  }
 },
 "nbformat": 4,
 "nbformat_minor": 5
}
