{
 "cells": [
  {
   "cell_type": "markdown",
   "id": "7e73886a",
   "metadata": {},
   "source": [
    "# Input Module\n",
    "## Variables\n",
    "- Games Played - int\n",
    "- Number of turns for current game - int\n",
    "- Player Input data - string\n",
    "## Functions\n",
    "- def newGame(gamesPlayed int):\n",
    "    - if no games have been played\n",
    "        - welcome the player to the game\n",
    "        - ask them to press a specific key to start the game\n",
    "            - loop until they press the correct key\n",
    "    - if at least one game has been played\n",
    "        - ask them to press a specifc key to exit the game, a different key to play again\n",
    "            - loop until one of the keys is pressed\n",
    "\n",
    "- enterData():\n",
    "    - use the input() function:\n",
    "        - want a string return variable that will later be parsed\n",
    "        - **Output:** player_input_data - type: string\n",
    "            - Expected form: X 1 2\n"
   ]
  },
  {
   "cell_type": "markdown",
   "id": "9405726b",
   "metadata": {},
   "source": [
    "# Parse and Validate Module\n",
    "## Module Variables\n",
    "- board 2_Dlist (The Tic-Tac-Toe board)\n",
    "# Functions\n",
    "- def parseData(player_input_data string):\n",
    "    - parse the Mark, row and column values from the input string\n",
    "    - store data in a list\n",
    "    - Mark is stored as a string, row and column stored as integers\n",
    "    - **Output:** values - type: list\n",
    "        - expected form: [\"X\", 1, 2]\n",
    "\n",
    "- def validateData(values list, board 2D_list, turn_number int):\n",
    "    - check that values[0] == \"X\" if it is Player 1s turn\n",
    "    - check that values[0] == \"O\" if it is Player 2s turn\n",
    "        - if either one is false, prompt user to enter valid data again, and remind them of the proper format\n",
    "    - Ensure that both row and column values are integers between 1 to 3 inclusive\n",
    "        - if either value is not an integer or out of bounds, prompt user to enter valid data again and remind them of the proper format\n",
    "    - Ensure that the (row, column) coordinate has not previously been marked\n",
    "        - if it has been marked, tell user that cell has already been selected and that they must pick an empty one\n",
    "    - all input data has been validated, now incremement the number of turns and add entry to the gameboard\n",
    "    - **Output:** board - type: 2D_list, turn_number - type: int\n",
    "\n",
    "    "
   ]
  },
  {
   "cell_type": "markdown",
   "id": "d8b69b23",
   "metadata": {},
   "source": [
    "# Check Game State\n",
    "## Module variables\n",
    "- Number of games Player 1 has won - int\n",
    "- Number of games Player 2 has won - int\n",
    "## Functions\n",
    "- def checkWinner(board 2D_list, turn_number int):\n",
    "    - check if current player cell entry:\n",
    "        - results in a vertical victory\n",
    "        - results in a horizontal victory\n",
    "        - results in a diagnol left or right vectory\n",
    "    - **Output:** game_won - type: boolean\n",
    "\n",
    "- def checkStaleMate(board 2D_list, turn_number int):\n",
    "    - game minumum number of turns taken before draw becomes guaranteed is 7 moves (after the 7th move), 2 open cells left\n",
    "    - if after 7 or 8 turns have taken place, check if next player can win the game, if they can't game ends in a draw\n",
    "    - **Output:** game_draw - type: boolean\n",
    "\n",
    "\n"
   ]
  },
  {
   "cell_type": "markdown",
   "id": "23609386",
   "metadata": {},
   "source": [
    "# Output Relevant Info and Prompt\n",
    "## Functions\n",
    "- def printSeriesMetrics()\n",
    "    - print number of games played\n",
    "    - print number of times Player 1 has won a game\n",
    "    - print number of times Player 2 has won a game\n",
    "\n",
    "- def print gameState(game_won, game_draw, board, turns)\n",
    "    - if game has been won, use number of turns to figure out who won the game\n",
    "        - print who one the game\n",
    "    - if a stalemate has been reached, print that the game is a draw\n",
    "    - no matter what, print how many turns occured in this game\n",
    "    - print the current gameboard"
   ]
  },
  {
   "cell_type": "markdown",
   "id": "86312e01",
   "metadata": {},
   "source": []
  }
 ],
 "metadata": {
  "language_info": {
   "name": "python"
  }
 },
 "nbformat": 4,
 "nbformat_minor": 5
}
