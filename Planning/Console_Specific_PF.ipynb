{
 "cells": [
  {
   "cell_type": "markdown",
   "id": "54d07550",
   "metadata": {},
   "source": [
    "# Entering Data\n",
    "- Enter mark: \"X\" - Player 1 or \"O\" - Player 2\n",
    "- Enter row number: 1, 2 or 3\n",
    "- Enter col number: 1, 2, or 3\n",
    "- All three values should be on the same line\n",
    "    - e.g. X 2 1\n",
    "- Check that the mark and cell location is invalid, prompt player to re-enter data if mark and/or cell location is invalid\n"
   ]
  },
  {
   "cell_type": "markdown",
   "id": "d59654c3",
   "metadata": {},
   "source": [
    "# Display\n",
    "- When program starts, there should be a welcome message, then prompt the user to start the game\n",
    "- Throughout gameplay, display:\n",
    "    - number of games played\n",
    "    - score of Player X\n",
    "    - score of Player o\n",
    "    - who's turn it is\n",
    "    - The Tic-Tac-Toe grid with updated marks\n",
    "- When the game ends, display who won, bold the winningin line, and prompt the user to restart the game\n"
   ]
  },
  {
   "cell_type": "markdown",
   "id": "db4dcb3d",
   "metadata": {},
   "source": [
    "# Functions\n",
    "- will place all functions into a module\n",
    "- will store game-related variables in this module:\n",
    "    - Total number of games played\n",
    "    - Number of games Player X has one\n",
    "    - number of games Player O has one\n",
    "    - Number of of turns of current game\n",
    "    - Whose turn is it to choose a cell\n",
    "    - Which cells have been marked, and the mark each marked cell possesses\n",
    "    \n",
    "- **Parse player input:**\n",
    "    - parameters(Mark - string, row - int, col - int)\n",
    "    - Mark must be \"X\" for player 1, and \"O\" for player 2\n",
    "    - row and colum must:\n",
    "        - both be between 1 and 3\n",
    "        - (r,c) must not already have a mark\n",
    "- **Update game screen text:**\n",
    "    - Games played\n",
    "    - Number of wins for each player\n",
    "    - who's turn it is and the number of turns that have taken place for this game\n",
    "    - variables - games_played, X_wins, O_wins, turn (odd-X, even-O)\n",
    "    - should the variables be from \n",
    "\n",
    "- \n"
   ]
  },
  {
   "cell_type": "markdown",
   "id": "79519572",
   "metadata": {},
   "source": []
  }
 ],
 "metadata": {
  "language_info": {
   "name": "python"
  }
 },
 "nbformat": 4,
 "nbformat_minor": 5
}
