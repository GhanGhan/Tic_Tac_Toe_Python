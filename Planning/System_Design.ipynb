{
 "cells": [
  {
   "cell_type": "markdown",
   "id": "494b6644",
   "metadata": {
    "vscode": {
     "languageId": "plaintext"
    }
   },
   "source": [
    "# Modules jobs\n",
    "- Inputting cell mark data\n",
    "- Recording relevant data of previous games\n",
    "- Validating cell mark input data\n",
    "- Checking if latest validated input results in a win, stalement, or continuance of the game\n",
    "- Maintaining game board state\n",
    "- Outputting relevant information to the console \n"
   ]
  },
  {
   "cell_type": "markdown",
   "id": "0dc51ed5",
   "metadata": {},
   "source": [
    "# Module in-depth descriptions\n",
    "## Input Data\n",
    "- Prompt player 1 or player 2 to enter their mark and cell location they would like to pick\n",
    "- **Input = Output:** Mark and user selection\n",
    "\n"
   ]
  },
  {
   "cell_type": "markdown",
   "id": "1b5638a2",
   "metadata": {},
   "source": [
    "## Parse and Validate\n",
    "- Isolate and obtain the mark and cell selection data\n",
    "- Ensure that that mark = \"X\" if it is Player 1's turn and mark = \"O\" if it is Player 2's turn\n",
    "- Ensure that both the row and cell value are between 1 to 3 inclusive, and that the cell has not been previously marked\n",
    "- If data is not valid, go back to acquiring player input data\n",
    "- Update game data (turns, game board)\n",
    "- **Inputs:** Mark and user Selection\n",
    "- **Outputs:** Number of turns and updated Tic-Tac-Toe game board"
   ]
  },
  {
   "cell_type": "markdown",
   "id": "b428654e",
   "metadata": {},
   "source": [
    "## Check game state\n",
    "- check if latest entry to gameboard:\n",
    "    - results in Player 1 winning the game\n",
    "    - results in Player 2 winning the game\n",
    "    - results in a stalemate\n",
    "    - allows for a continuance of gameplay\n",
    "- Update game data (games played, number of games won by each player)\n",
    "- **Inputs:** Updated Tic-Tac-Toe game board\n",
    "- **Outputs:** Results of later player move (win, draw, continuance)"
   ]
  },
  {
   "cell_type": "markdown",
   "id": "043f2f96",
   "metadata": {},
   "source": [
    "## Output Relavant Info and Prompt\n",
    "- Output following data:\n",
    "    - number of games played\n",
    "    - number of games one by each player\n",
    "    - number of turns taken place in current game\n",
    "    - state of the gameboard\n",
    "- If a player has won the game or game ends in a draw, display that information as well\n",
    "- If the game ended for anyone reason, prompt user to restart or quit the game\n",
    "- If prompt to restart, go back to acquiring player input data"
   ]
  },
  {
   "cell_type": "markdown",
   "id": "f6b4c992",
   "metadata": {},
   "source": [
    "# Required Logic (Depreciated)\n",
    "- aquiring and parsing the input data from the players\n",
    "- validating that the data:\n",
    "    - acceptable marks\n",
    "    - acceptable cell locations\n",
    "- checking if either player has won the game\n",
    "- checking if an entry has led to a draw\n",
    "- keep track of games played, number of turns, the current players turn, and games won by each player\n",
    "- displaying pertinent information onto the console:\n",
    "    - games played\n",
    "    - number of turns in current game\n",
    "    - players turn\n",
    "    - number of games won by each player\n",
    "    - current state of Tic-Tac-Toe game-board"
   ]
  },
  {
   "cell_type": "markdown",
   "id": "1fa66f70",
   "metadata": {},
   "source": []
  }
 ],
 "metadata": {
  "language_info": {
   "name": "python"
  }
 },
 "nbformat": 4,
 "nbformat_minor": 5
}
