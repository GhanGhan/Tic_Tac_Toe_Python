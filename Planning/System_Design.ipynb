{
 "cells": [
  {
   "cell_type": "markdown",
   "id": "f6b4c992",
   "metadata": {},
   "source": [
    "# Required Logic\n",
    "- aquiring and parsing the input data from the players\n",
    "- validating that the data:\n",
    "    - acceptable marks\n",
    "    - acceptable cell locations\n",
    "- checking if either player has won the game\n",
    "- checking if an entry has led to a draw\n",
    "- keep track of games played, number of turns, the current players turn, and games won by each player\n",
    "- displaying pertinent information onto the console:\n",
    "    - games played\n",
    "    - number of turns in current game\n",
    "    - players turn\n",
    "    - number of games won by each player\n",
    "    - current state of Tic-Tac-Toe game-board\n",
    "\n"
   ]
  },
  {
   "cell_type": "markdown",
   "id": "f58d9417",
   "metadata": {},
   "source": []
  }
 ],
 "metadata": {
  "language_info": {
   "name": "python"
  }
 },
 "nbformat": 4,
 "nbformat_minor": 5
}
